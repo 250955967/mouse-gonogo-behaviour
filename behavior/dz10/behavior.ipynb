{
 "cells": [
  {
   "cell_type": "code",
   "execution_count": 1,
   "id": "8613dd9a-edda-4f3e-a89c-c69ed42b1fe4",
   "metadata": {},
   "outputs": [],
   "source": [
    "import pandas as pd"
   ]
  },
  {
   "cell_type": "markdown",
   "id": "11f02db7",
   "metadata": {},
   "source": [
    "# Day 1 free reward"
   ]
  },
  {
   "cell_type": "code",
   "execution_count": 2,
   "id": "d436fa88",
   "metadata": {},
   "outputs": [
    {
     "data": {
      "text/html": [
       "<div>\n",
       "<style scoped>\n",
       "    .dataframe tbody tr th:only-of-type {\n",
       "        vertical-align: middle;\n",
       "    }\n",
       "\n",
       "    .dataframe tbody tr th {\n",
       "        vertical-align: top;\n",
       "    }\n",
       "\n",
       "    .dataframe thead th {\n",
       "        text-align: right;\n",
       "    }\n",
       "</style>\n",
       "<table border=\"1\" class=\"dataframe\">\n",
       "  <thead>\n",
       "    <tr style=\"text-align: right;\">\n",
       "      <th></th>\n",
       "      <th>Time Stamps</th>\n",
       "      <th>port</th>\n",
       "      <th>threshold</th>\n",
       "    </tr>\n",
       "  </thead>\n",
       "  <tbody>\n",
       "    <tr>\n",
       "      <th>0</th>\n",
       "      <td>18584</td>\n",
       "      <td>5</td>\n",
       "      <td>0</td>\n",
       "    </tr>\n",
       "    <tr>\n",
       "      <th>1</th>\n",
       "      <td>18584</td>\n",
       "      <td>11</td>\n",
       "      <td>3000</td>\n",
       "    </tr>\n",
       "    <tr>\n",
       "      <th>2</th>\n",
       "      <td>18584</td>\n",
       "      <td>12</td>\n",
       "      <td>5000</td>\n",
       "    </tr>\n",
       "  </tbody>\n",
       "</table>\n",
       "</div>"
      ],
      "text/plain": [
       "   Time Stamps  port  threshold\n",
       "0        18584     5          0\n",
       "1        18584    11       3000\n",
       "2        18584    12       5000"
      ]
     },
     "execution_count": 2,
     "metadata": {},
     "output_type": "execute_result"
    }
   ],
   "source": [
    "df = pd.read_table('dz10_01_freerew_20220424-1507_box1.txt') # free reward\n",
    "df.columns = [ \"Time Stamps\", \"port\", \"threshold\"]\n",
    "df.head(3)"
   ]
  },
  {
   "cell_type": "code",
   "execution_count": 3,
   "id": "010e602f",
   "metadata": {
    "scrolled": true
   },
   "outputs": [
    {
     "name": "stdout",
     "output_type": "stream",
     "text": [
      "Lick number is:994\n"
     ]
    }
   ],
   "source": [
    "lickPort = 13\n",
    "lickDf = df[df.port == lickPort]\n",
    "print('Lick number is:'+ \"{}\".format(len(lickDf)))"
   ]
  },
  {
   "cell_type": "code",
   "execution_count": 4,
   "id": "fe55045e",
   "metadata": {},
   "outputs": [
    {
     "name": "stdout",
     "output_type": "stream",
     "text": [
      "reward number is:133\n"
     ]
    }
   ],
   "source": [
    "rewardPort = 14\n",
    "rewardDf = df[df.port == rewardPort]\n",
    "print('reward number is:'+ \"{}\".format(len(rewardDf)))"
   ]
  },
  {
   "cell_type": "markdown",
   "id": "3f21f6a4",
   "metadata": {},
   "source": [
    "# Day 2 free reward"
   ]
  },
  {
   "cell_type": "code",
   "execution_count": 5,
   "id": "e72e3786",
   "metadata": {},
   "outputs": [
    {
     "data": {
      "text/html": [
       "<div>\n",
       "<style scoped>\n",
       "    .dataframe tbody tr th:only-of-type {\n",
       "        vertical-align: middle;\n",
       "    }\n",
       "\n",
       "    .dataframe tbody tr th {\n",
       "        vertical-align: top;\n",
       "    }\n",
       "\n",
       "    .dataframe thead th {\n",
       "        text-align: right;\n",
       "    }\n",
       "</style>\n",
       "<table border=\"1\" class=\"dataframe\">\n",
       "  <thead>\n",
       "    <tr style=\"text-align: right;\">\n",
       "      <th></th>\n",
       "      <th>Time Stamps</th>\n",
       "      <th>port</th>\n",
       "      <th>threshold</th>\n",
       "    </tr>\n",
       "  </thead>\n",
       "  <tbody>\n",
       "    <tr>\n",
       "      <th>0</th>\n",
       "      <td>26506</td>\n",
       "      <td>5</td>\n",
       "      <td>0</td>\n",
       "    </tr>\n",
       "    <tr>\n",
       "      <th>1</th>\n",
       "      <td>26506</td>\n",
       "      <td>11</td>\n",
       "      <td>3000</td>\n",
       "    </tr>\n",
       "    <tr>\n",
       "      <th>2</th>\n",
       "      <td>26506</td>\n",
       "      <td>12</td>\n",
       "      <td>5000</td>\n",
       "    </tr>\n",
       "  </tbody>\n",
       "</table>\n",
       "</div>"
      ],
      "text/plain": [
       "   Time Stamps  port  threshold\n",
       "0        26506     5          0\n",
       "1        26506    11       3000\n",
       "2        26506    12       5000"
      ]
     },
     "execution_count": 5,
     "metadata": {},
     "output_type": "execute_result"
    }
   ],
   "source": [
    "df = pd.read_table('dz10_02_freerew_20220425-1034_box1.txt')# free reward\n",
    "df.columns = [ \"Time Stamps\", \"port\", \"threshold\"]\n",
    "df.head(3)"
   ]
  },
  {
   "cell_type": "code",
   "execution_count": 6,
   "id": "6cc60938",
   "metadata": {},
   "outputs": [
    {
     "name": "stdout",
     "output_type": "stream",
     "text": [
      "Lick number is:1583\n",
      "reward number is:204\n"
     ]
    }
   ],
   "source": [
    "lickPort = 13\n",
    "lickDf = df[df.port == lickPort]\n",
    "print('Lick number is:'+ \"{}\".format(len(lickDf)))\n",
    "\n",
    "rewardPort = 14\n",
    "rewardDf = df[df.port == rewardPort]\n",
    "print('reward number is:'+ \"{}\".format(len(rewardDf)))"
   ]
  },
  {
   "cell_type": "markdown",
   "id": "f6c1d5dc",
   "metadata": {},
   "source": [
    "# Day 3 random reward"
   ]
  },
  {
   "cell_type": "code",
   "execution_count": 7,
   "id": "071fe394",
   "metadata": {},
   "outputs": [
    {
     "name": "stdout",
     "output_type": "stream",
     "text": [
      "Lick number is:4822\n",
      "reward number is:184\n"
     ]
    }
   ],
   "source": [
    "df1 = pd.read_table('dz10_03_randrew_20220426-1516_box1.txt')# random reward\n",
    "df1.columns = [ \"Time Stamps\", \"port\", \"threshold\"]\n",
    "df2 = pd.read_table('dz10_03_randrew_20220426-1518_box1.txt')# random reward\n",
    "df2.columns = [ \"Time Stamps\", \"port\", \"threshold\"]\n",
    "df3 = pd.read_table('dz10_03_randrew_20220426-1524_box1.txt')# random reward\n",
    "df3.columns = [ \"Time Stamps\", \"port\", \"threshold\"]\n",
    "df = pd.concat([df1, df2, df3])\n",
    "df.columns = [ \"Time Stamps\", \"port\", \"threshold\"]\n",
    "df.head(3)\n",
    "\n",
    "lickPort = 13\n",
    "lickDf = df[df.port == lickPort]\n",
    "print('Lick number is:'+ \"{}\".format(len(lickDf)))\n",
    "\n",
    "rewardPort = 14\n",
    "rewardDf = df[df.port == rewardPort]\n",
    "print('reward number is:'+ \"{}\".format(len(rewardDf)))"
   ]
  },
  {
   "cell_type": "markdown",
   "id": "c34ccc03",
   "metadata": {},
   "source": [
    "# Day 4 nogo reward test"
   ]
  },
  {
   "cell_type": "code",
   "execution_count": 8,
   "id": "fe8dc512",
   "metadata": {},
   "outputs": [
    {
     "name": "stdout",
     "output_type": "stream",
     "text": [
      "Lick number is:3516\n",
      "reward number is:197\n"
     ]
    }
   ],
   "source": [
    "df = pd.read_table('dz10_04_nogo_20220427-0938_box1.txt')# nogo reward\n",
    "df.columns = [ \"Time Stamps\", \"port\", \"threshold\"]\n",
    "df.head(3)\n",
    "lickPort = 13\n",
    "lickDf = df[df.port == lickPort]\n",
    "print('Lick number is:'+ \"{}\".format(len(lickDf)))\n",
    "\n",
    "rewardPort = 14\n",
    "rewardDf = df[df.port == rewardPort]\n",
    "print('reward number is:'+ \"{}\".format(len(rewardDf)))"
   ]
  },
  {
   "cell_type": "markdown",
   "id": "821b4ad6",
   "metadata": {},
   "source": [
    "# Day 5 nogo long ITI"
   ]
  },
  {
   "cell_type": "code",
   "execution_count": 29,
   "id": "33e470d2",
   "metadata": {},
   "outputs": [
    {
     "name": "stdout",
     "output_type": "stream",
     "text": [
      "Lick number is:3992\n",
      "reward number is:73\n",
      "cueOn number is:202\n",
      "sucessfulRate is:0.3613861386138614\n"
     ]
    }
   ],
   "source": [
    "df = pd.read_table('dz10_05_nogo_lITI_20220428-1030_box1.txt')# nogo reward long ITI\n",
    "df.columns = [ \"Time Stamps\", \"port\", \"threshold\"]\n",
    "df.head(3)\n",
    "lickPort = 13\n",
    "lickDf = df[df.port == lickPort]\n",
    "print('Lick number is:'+ \"{}\".format(len(lickDf)))\n",
    "\n",
    "rewardPort = 14\n",
    "rewardDf = df[df.port == rewardPort]\n",
    "rewardDf\n",
    "print('reward number is:'+ \"{}\".format(len(rewardDf)))\n",
    "\n",
    "rightLedPort = 44\n",
    "rightLedPortDf= df[df.port == rightLedPort]\n",
    "print('cueOn number is:'+ \"{}\".format(len(rightLedPortDf)))\n",
    "sucessfulRate = len(rewardDf)/len(rightLedPortDf)\n",
    "print('sucessfulRate is:'+ str(sucessfulRate))"
   ]
  },
  {
   "cell_type": "markdown",
   "id": "c4650dd3",
   "metadata": {},
   "source": [
    "# Raster plot of the licking behavior"
   ]
  },
  {
   "cell_type": "code",
   "execution_count": 30,
   "id": "cab58a89",
   "metadata": {},
   "outputs": [
    {
     "data": {
      "image/png": "[encoded data removed]",
      "text/plain": [
       "<Figure size 432x288 with 1 Axes>"
      ]
     },
     "metadata": {
      "needs_background": "light"
     },
     "output_type": "display_data"
    }
   ],
   "source": [
    "import matplotlib.pyplot as plot\n",
    "import numpy as np\n",
    "# Set the random seed for data generation\n",
    "np.random.seed(2) \n",
    "# Create rows of random data with 50 data points simulating rows of spike trains\n",
    "neuralData = np.random.random([8, 50])\n",
    "# Set different colors for each neuron\n",
    "colorCodes = np.array([[0, 0, 0],\n",
    "\n",
    "                        [1, 0, 0],\n",
    "\n",
    "                        [0, 1, 0],\n",
    "\n",
    "                        [0, 0, 1],\n",
    "\n",
    "                        [1, 1, 0],\n",
    "\n",
    "                        [1, 0, 1],\n",
    "\n",
    "                        [0, 1, 1],\n",
    "\n",
    "                        [1, 0, 1]])\n",
    "# Set spike colors for each neuron\n",
    "lineSize = [0.4, 0.3, 0.2, 0.8, 0.5, 0.6, 0.7, 0.9]                                  \n",
    "# Draw a spike raster plot\n",
    "plot.eventplot(neuralData, color=colorCodes, linelengths = lineSize)     \n",
    "# Provide the title for the spike raster plot\n",
    "plot.title('Spike raster plot')\n",
    "\n",
    "# Give x axis label for the spike raster plot\n",
    "plot.xlabel('Neuron')\n",
    "\n",
    "# Give y axis label for the spike raster plot\n",
    "plot.ylabel('Spike')\n",
    "\n",
    "# Display the spike raster plot\n",
    "plot.show()"
   ]
  },
  {
   "cell_type": "code",
   "execution_count": null,
   "id": "3acac8fa",
   "metadata": {},
   "outputs": [],
   "source": []
  }
 ],
 "metadata": {
  "kernelspec": {
   "display_name": "Python 3 (ipykernel)",
   "language": "python",
   "name": "python3"
  },
  "language_info": {
   "codemirror_mode": {
    "name": "ipython",
    "version": 3
   },
   "file_extension": ".py",
   "mimetype": "text/x-python",
   "name": "python",
   "nbconvert_exporter": "python",
   "pygments_lexer": "ipython3",
   "version": "3.9.7"
  }
 },
 "nbformat": 4,
 "nbformat_minor": 5
}
